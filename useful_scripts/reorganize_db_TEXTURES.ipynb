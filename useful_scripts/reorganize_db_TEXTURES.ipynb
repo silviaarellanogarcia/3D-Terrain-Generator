{
  "cells": [
    {
      "cell_type": "code",
      "execution_count": null,
      "metadata": {
        "colab": {
          "base_uri": "https://localhost:8080/"
        },
        "id": "_YsUvhxos5ZN",
        "outputId": "7b331166-d80a-45ba-a41f-a5d8e117c806"
      },
      "outputs": [
        {
          "name": "stdout",
          "output_type": "stream",
          "text": [
            "Looking in indexes: https://pypi.org/simple, https://us-python.pkg.dev/colab-wheels/public/simple/\n",
            "Requirement already satisfied: Pillow in /usr/local/lib/python3.9/dist-packages (8.4.0)\n"
          ]
        }
      ],
      "source": [
        "!pip install Pillow"
      ]
    },
    {
      "cell_type": "code",
      "execution_count": null,
      "metadata": {
        "id": "yGjyNW58LCt7"
      },
      "outputs": [],
      "source": [
        "import PIL\n",
        "import glob\n",
        "import os\n",
        "import numpy as np\n",
        "from PIL import Image\n"
      ]
    },
    {
      "cell_type": "code",
      "execution_count": null,
      "metadata": {
        "colab": {
          "base_uri": "https://localhost:8080/"
        },
        "id": "2mTFIzyWLdyk",
        "outputId": "0b3d1981-6efc-405f-dc14-cbe432bf108f"
      },
      "outputs": [
        {
          "name": "stdout",
          "output_type": "stream",
          "text": [
            "Mounted at /content/drive\n"
          ]
        }
      ],
      "source": [
        "# Connect to Google Drive\n",
        "from google.colab import drive\n",
        "drive.mount('/content/drive')"
      ]
    },
    {
      "cell_type": "code",
      "execution_count": null,
      "metadata": {
        "id": "shSBHOyZIM3C"
      },
      "outputs": [],
      "source": [
        "# Declaration of constants and paths\n",
        "DB_PATH = '/content/drive/MyDrive/TFG/TextureDatabase/'\n",
        "DB_FOLDER_NAME = 'TextureDatabase'\n",
        "\n",
        "PLAIN_FOLDER_PATH = '/content/drive/MyDrive/TFG/plain_terrain_TEXTURE/'\n",
        "PLAIN_FOLDER_NAME = 'plain_terrain_TEXTURE'"
      ]
    },
    {
      "cell_type": "code",
      "execution_count": null,
      "metadata": {
        "colab": {
          "base_uri": "https://localhost:8080/"
        },
        "id": "96KTDpJbOiuM",
        "outputId": "0f4abbdc-4931-4e04-c11f-1e1c5d69aeec"
      },
      "outputs": [
        {
          "name": "stdout",
          "output_type": "stream",
          "text": [
            "This folder already exsists!\n"
          ]
        }
      ],
      "source": [
        "import shutil\n",
        "\n",
        "# creation of a new folder to store the downloads\n",
        "try:\n",
        "  os.makedirs(PLAIN_FOLDER_PATH)\n",
        "\n",
        "except FileExistsError:\n",
        "  print(\"This folder already exsists!\")\n",
        "  pass"
      ]
    },
    {
      "cell_type": "code",
      "execution_count": null,
      "metadata": {
        "colab": {
          "base_uri": "https://localhost:8080/"
        },
        "id": "Iwsvr2ooL9HW",
        "outputId": "9db175db-2549-4e7f-c269-814ec7278a5e"
      },
      "outputs": [
        {
          "name": "stdout",
          "output_type": "stream",
          "text": [
            "['/content/drive/MyDrive/prueba/hmap/hmap_-53_72__0_T.png', '/content/drive/MyDrive/prueba/hmap/hmap_124_70__0_T.png', '/content/drive/MyDrive/prueba/hmap/hmap_-55_-11__0_T.png', '/content/drive/MyDrive/prueba/hmap/hmap_57_30__0_T.png', '/content/drive/MyDrive/prueba/hmap/hmap_38_60__0_T.png', '/content/drive/MyDrive/prueba/hmap/hmap_21_-17__0_T.png', '/content/drive/MyDrive/prueba/hmap/hmap_-91_34__0_T.png', '/content/drive/MyDrive/prueba/hmap/hmap_-72_5__0_T.png', '/content/drive/MyDrive/prueba/hmap/hmap_31_16__0_T.png', '/content/drive/MyDrive/prueba/hmap/hmap_3_30__0_T.png', '/content/drive/MyDrive/prueba/hmap/hmap_118_53__0_T.png', '/content/drive/MyDrive/prueba/hmap/hmap_-114_53__0_T.png', '/content/drive/MyDrive/prueba/hmap/hmap_-41_-12__0_T.png', '/content/drive/MyDrive/prueba/hmap/hmap_79_30__0_T.png', '/content/drive/MyDrive/prueba/hmap/hmap_59_21__0_T.png', '/content/drive/MyDrive/prueba/hmap/hmap_-65_80__0_T.png', '/content/drive/MyDrive/prueba/hmap/hmap_55_20__0_T.png', '/content/drive/MyDrive/prueba/hmap/hmap_-98_28__0_T.png', '/content/drive/MyDrive/prueba/hmap/hmap_-77_42__0_T.png', '/content/drive/MyDrive/prueba/hmap/hmap_-30_79__0_T.png', '/content/drive/MyDrive/prueba/hmap/hmap_-92_41__0_T.png', '/content/drive/MyDrive/prueba/hmap/hmap_51_50__0_T.png', '/content/drive/MyDrive/prueba/hmap/hmap_37_-9__0_T.png', '/content/drive/MyDrive/prueba/hmap/hmap_-140_68__0_T.png', '/content/drive/MyDrive/prueba/hmap/hmap_82_33__0_T.png', '/content/drive/MyDrive/prueba/hmap/hmap_77_56__0_T.png', '/content/drive/MyDrive/prueba/hmap/hmap_45_-16__0_T.png', '/content/drive/MyDrive/prueba/hmap/hmap_-73_-8__0_T.png', '/content/drive/MyDrive/prueba/hmap/hmap_25_56__0_T.png', '/content/drive/MyDrive/prueba/hmap/hmap_21_-13__0_T.png', '/content/drive/MyDrive/prueba/hmap/hmap_-53_72__0.png', '/content/drive/MyDrive/prueba/hmap/hmap_124_70__0.png', '/content/drive/MyDrive/prueba/hmap/hmap_-55_-11__0.png', '/content/drive/MyDrive/prueba/hmap/hmap_57_30__0.png', '/content/drive/MyDrive/prueba/hmap/hmap_38_60__0.png', '/content/drive/MyDrive/prueba/hmap/hmap_21_-17__0.png', '/content/drive/MyDrive/prueba/hmap/hmap_-91_34__0.png', '/content/drive/MyDrive/prueba/hmap/hmap_-72_5__0.png', '/content/drive/MyDrive/prueba/hmap/hmap_31_16__0.png', '/content/drive/MyDrive/prueba/hmap/hmap_3_30__0.png', '/content/drive/MyDrive/prueba/hmap/hmap_118_53__0.png', '/content/drive/MyDrive/prueba/hmap/hmap_-114_53__0.png', '/content/drive/MyDrive/prueba/hmap/hmap_-41_-12__0.png', '/content/drive/MyDrive/prueba/hmap/hmap_79_30__0.png', '/content/drive/MyDrive/prueba/hmap/hmap_59_21__0.png', '/content/drive/MyDrive/prueba/hmap/hmap_-65_80__0.png', '/content/drive/MyDrive/prueba/hmap/hmap_55_20__0.png', '/content/drive/MyDrive/prueba/hmap/hmap_-98_28__0.png', '/content/drive/MyDrive/prueba/hmap/hmap_-77_42__0.png', '/content/drive/MyDrive/prueba/hmap/hmap_-30_79__0.png', '/content/drive/MyDrive/prueba/hmap/hmap_-92_41__0.png', '/content/drive/MyDrive/prueba/hmap/hmap_51_50__0.png', '/content/drive/MyDrive/prueba/hmap/hmap_37_-9__0.png', '/content/drive/MyDrive/prueba/hmap/hmap_-140_68__0.png', '/content/drive/MyDrive/prueba/hmap/hmap_82_33__0.png', '/content/drive/MyDrive/prueba/hmap/hmap_77_56__0.png', '/content/drive/MyDrive/prueba/hmap/hmap_45_-16__0.png', '/content/drive/MyDrive/prueba/hmap/hmap_-73_-8__0.png', '/content/drive/MyDrive/prueba/hmap/hmap_25_56__0.png', '/content/drive/MyDrive/prueba/hmap/hmap_21_-13__0.png']\n",
            "/content/drive/MyDrive/prueba/hmap/hmap_-53_72__0.png\n",
            "58.51251760318271\n",
            "/content/drive/MyDrive/prueba/hmap/hmap_124_70__0.png\n",
            "21.214756947656\n",
            "/content/drive/MyDrive/prueba/hmap/hmap_-55_-11__0.png\n",
            "9.573795831171362\n",
            "Plain terrain: /content/drive/MyDrive/prueba/hmap/hmap_-55_-11__0.png\n",
            "Heightmap and texture relocated.\n",
            "/content/drive/MyDrive/prueba/hmap/hmap_57_30__0.png\n",
            "48.45857093612908\n",
            "/content/drive/MyDrive/prueba/hmap/hmap_38_60__0.png\n",
            "8.452089153778843\n",
            "Plain terrain: /content/drive/MyDrive/prueba/hmap/hmap_38_60__0.png\n",
            "Heightmap and texture relocated.\n",
            "/content/drive/MyDrive/prueba/hmap/hmap_21_-17__0.png\n",
            "2.272060087973391\n",
            "Plain terrain: /content/drive/MyDrive/prueba/hmap/hmap_21_-17__0.png\n",
            "Heightmap and texture relocated.\n",
            "/content/drive/MyDrive/prueba/hmap/hmap_-91_34__0.png\n",
            "1.6211483525185626\n",
            "Plain terrain: /content/drive/MyDrive/prueba/hmap/hmap_-91_34__0.png\n",
            "Heightmap and texture relocated.\n",
            "/content/drive/MyDrive/prueba/hmap/hmap_-72_5__0.png\n",
            "48.103532106597875\n",
            "/content/drive/MyDrive/prueba/hmap/hmap_31_16__0.png\n",
            "17.744028363990854\n",
            "Plain terrain: /content/drive/MyDrive/prueba/hmap/hmap_31_16__0.png\n",
            "Heightmap and texture relocated.\n",
            "/content/drive/MyDrive/prueba/hmap/hmap_3_30__0.png\n",
            "3.076440884380071\n",
            "Plain terrain: /content/drive/MyDrive/prueba/hmap/hmap_3_30__0.png\n",
            "Heightmap and texture relocated.\n",
            "/content/drive/MyDrive/prueba/hmap/hmap_118_53__0.png\n",
            "47.571112783387555\n",
            "/content/drive/MyDrive/prueba/hmap/hmap_-114_53__0.png\n",
            "18.721558414499462\n",
            "Plain terrain: /content/drive/MyDrive/prueba/hmap/hmap_-114_53__0.png\n",
            "Heightmap and texture relocated.\n",
            "/content/drive/MyDrive/prueba/hmap/hmap_-41_-12__0.png\n",
            "34.98906952154255\n",
            "/content/drive/MyDrive/prueba/hmap/hmap_79_30__0.png\n",
            "34.98906952154255\n",
            "/content/drive/MyDrive/prueba/hmap/hmap_59_21__0.png\n",
            "17.149538572740866\n",
            "Plain terrain: /content/drive/MyDrive/prueba/hmap/hmap_59_21__0.png\n",
            "Heightmap and texture relocated.\n",
            "/content/drive/MyDrive/prueba/hmap/hmap_-65_80__0.png\n",
            "17.149538572740866\n",
            "Plain terrain: /content/drive/MyDrive/prueba/hmap/hmap_-65_80__0.png\n",
            "Heightmap and texture relocated.\n",
            "/content/drive/MyDrive/prueba/hmap/hmap_55_20__0.png\n",
            "5.416198661303511\n",
            "Plain terrain: /content/drive/MyDrive/prueba/hmap/hmap_55_20__0.png\n",
            "Heightmap and texture relocated.\n",
            "/content/drive/MyDrive/prueba/hmap/hmap_-98_28__0.png\n",
            "9.258199552180441\n",
            "Plain terrain: /content/drive/MyDrive/prueba/hmap/hmap_-98_28__0.png\n",
            "Heightmap and texture relocated.\n",
            "/content/drive/MyDrive/prueba/hmap/hmap_-77_42__0.png\n",
            "9.258199552180441\n",
            "Plain terrain: /content/drive/MyDrive/prueba/hmap/hmap_-77_42__0.png\n",
            "Heightmap and texture relocated.\n",
            "/content/drive/MyDrive/prueba/hmap/hmap_-30_79__0.png\n",
            "45.5886298183599\n",
            "/content/drive/MyDrive/prueba/hmap/hmap_-92_41__0.png\n",
            "14.637395739243694\n",
            "Plain terrain: /content/drive/MyDrive/prueba/hmap/hmap_-92_41__0.png\n",
            "Heightmap and texture relocated.\n",
            "/content/drive/MyDrive/prueba/hmap/hmap_51_50__0.png\n",
            "9.751653897179597\n",
            "Plain terrain: /content/drive/MyDrive/prueba/hmap/hmap_51_50__0.png\n",
            "Heightmap and texture relocated.\n",
            "/content/drive/MyDrive/prueba/hmap/hmap_37_-9__0.png\n",
            "30.49934883035727\n",
            "/content/drive/MyDrive/prueba/hmap/hmap_-140_68__0.png\n",
            "30.49934883035727\n",
            "/content/drive/MyDrive/prueba/hmap/hmap_82_33__0.png\n",
            "28.266183728030303\n",
            "/content/drive/MyDrive/prueba/hmap/hmap_77_56__0.png\n",
            "4.250888647370041\n",
            "Plain terrain: /content/drive/MyDrive/prueba/hmap/hmap_77_56__0.png\n",
            "Heightmap and texture relocated.\n",
            "/content/drive/MyDrive/prueba/hmap/hmap_45_-16__0.png\n",
            "4.250888647370041\n",
            "Plain terrain: /content/drive/MyDrive/prueba/hmap/hmap_45_-16__0.png\n",
            "Heightmap and texture relocated.\n",
            "/content/drive/MyDrive/prueba/hmap/hmap_-73_-8__0.png\n",
            "34.40455996977235\n",
            "/content/drive/MyDrive/prueba/hmap/hmap_25_56__0.png\n",
            "8.95891344121851\n",
            "Plain terrain: /content/drive/MyDrive/prueba/hmap/hmap_25_56__0.png\n",
            "Heightmap and texture relocated.\n",
            "/content/drive/MyDrive/prueba/hmap/hmap_21_-13__0.png\n",
            "8.95891344121851\n",
            "Plain terrain: /content/drive/MyDrive/prueba/hmap/hmap_21_-13__0.png\n",
            "Heightmap and texture relocated.\n",
            "The most plain terrains have been detected!\n"
          ]
        }
      ],
      "source": [
        "# Now, reorganize the images so we can later reconstruct both plain and rocky terrain\n",
        "imgList = glob.glob(DB_PATH + '*.png')\n",
        "print(imgList)\n",
        "\n",
        "# Proven empirically, a noisy image has a stdDeviation around 55\n",
        "stdDevThresh = 19\n",
        "\n",
        "for imgName in imgList:\n",
        "    if not imgName.endswith('T.png'):\n",
        "        print(imgName)\n",
        "        img = Image.open(imgName)\n",
        "        pixels = img.getdata()      # get the pixels as a vector\n",
        "        img.histogram()\n",
        "\n",
        "        ## check if image is un-varied\n",
        "        stdDev = np.sqrt(np.var(pixels)) # get variance\n",
        "        print(stdDev)\n",
        "\n",
        "        if stdDev < stdDevThresh:\n",
        "            print(\"Plain terrain: \" + imgName)\n",
        "            # Moving to the plain folder\n",
        "            split_path = imgName.split(DB_FOLDER_NAME)\n",
        "            full_path = split_path[0] + PLAIN_FOLDER_NAME + split_path[1]\n",
        "            os.rename(imgName, full_path)\n",
        "\n",
        "            path_texture = imgName.split(\".png\")[0] + \"_T.png\"\n",
        "            if os.path.exists(path_texture):\n",
        "                full_path_T = full_path.split(\".png\")[0] + \"_T.png\"\n",
        "                os.rename(path_texture, full_path_T)\n",
        "                print(\"Heightmap and texture relocated.\")\n",
        "\n",
        "print('The most plain terrains have been detected!')"
      ]
    },
    {
      "cell_type": "code",
      "execution_count": null,
      "metadata": {
        "colab": {
          "base_uri": "https://localhost:8080/"
        },
        "id": "wFXdPRPGKOQU",
        "outputId": "02fb324f-4395-4123-99c6-43f11e27b990"
      },
      "outputs": [
        {
          "name": "stdout",
          "output_type": "stream",
          "text": [
            "55.15889873114782\n"
          ]
        }
      ],
      "source": [
        "# Computation of the standard deviation of a specific image\n",
        "img = Image.open('/content/drive/MyDrive/TFG/TextureDatabasePrueba/plUPA.jpg')\n",
        "pixels = img.getdata()      # get the pixels as a vector\n",
        "stdDev = np.sqrt(np.var(pixels)) # get variance\n",
        "print(stdDev)\n"
      ]
    }
  ],
  "metadata": {
    "colab": {
      "provenance": []
    },
    "kernelspec": {
      "display_name": "Python 3",
      "name": "python3"
    },
    "language_info": {
      "name": "python"
    }
  },
  "nbformat": 4,
  "nbformat_minor": 0
}
